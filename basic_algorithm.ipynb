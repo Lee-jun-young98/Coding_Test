{
 "cells": [
  {
   "cell_type": "code",
   "execution_count": 1,
   "id": "12f58dac",
   "metadata": {},
   "outputs": [
    {
     "name": "stdout",
     "output_type": "stream",
     "text": [
      "[0, 2, 4, 6, 8, 10, 12, 14, 16, 18, 20, 22, 24, 26, 28, 30, 32, 34, 36, 38, 40, 42, 44, 46, 48, 50, 52, 54, 56, 58, 60, 62, 64, 66, 68, 70, 72, 74, 76, 78, 80, 82, 84, 86, 88, 90, 92, 94, 96, 98, 100]\n"
     ]
    }
   ],
   "source": [
    "array = [i for i in range(0, 101) if i % 2 == 0]\n",
    "print(array)"
   ]
  },
  {
   "cell_type": "code",
   "execution_count": 2,
   "id": "8682d0dc",
   "metadata": {},
   "outputs": [
    {
     "name": "stdout",
     "output_type": "stream",
     "text": [
      "[[0, 0, 0, 0], [0, 0, 0, 0], [0, 0, 0, 0]]\n"
     ]
    }
   ],
   "source": [
    "n = 3\n",
    "m = 4\n",
    "array = [[0] * m] * n\n",
    "print(array)"
   ]
  },
  {
   "cell_type": "code",
   "execution_count": 3,
   "id": "6bb72346",
   "metadata": {},
   "outputs": [
    {
     "name": "stdout",
     "output_type": "stream",
     "text": [
      "[[0, 5, 0, 0], [0, 5, 0, 0], [0, 5, 0, 0]]\n"
     ]
    }
   ],
   "source": [
    "array[1][1] = 5\n",
    "print(array)"
   ]
  },
  {
   "cell_type": "code",
   "execution_count": 4,
   "id": "58756904",
   "metadata": {},
   "outputs": [
    {
     "name": "stdout",
     "output_type": "stream",
     "text": [
      "[[0, 0, 0, 0], [0, 0, 0, 0], [0, 0, 0, 0]]\n"
     ]
    }
   ],
   "source": [
    "# 리스트를 초기화 할 때에는 리스트 컴프리헨션을 사용\n",
    "n = 3\n",
    "m = 4\n",
    "array = [[0]*m for _ in range(n)]\n",
    "print(array)"
   ]
  },
  {
   "cell_type": "markdown",
   "id": "54e6e7de",
   "metadata": {},
   "source": [
    "# 주요 라이브러리의 문법과 유의점\n",
    "- 내장 함수 : print(), input()과 같은 기본 입출력 기능부터 sorted()와 같은 정렬 기능을 포함\n",
    "- itertools : 파이썬에서 반복되는 형태의 데이터를 처리하는 기능을 제공하는 라이브러리, 순열과 조합을 제공\n",
    "- heapq : 힙(heap) 기능을 제공하는 라이브러리, 우선순위 큐를 구현하기 위해 사용\n",
    "- bisect : 이진 탐색 기능을 제공하는 라이브러리\n",
    "- collections : 덱(deque), 카운터(Counter) 등의 유용한 자료구조를 포함하고 있는 라이브러리\n",
    "- math : 필수적인 수학적 기능을 제공하는 라이브러리(팩토리얼, 제곱근, 최대공약수(GCD), 삼각함수 관련 함수부터 파이(pi)와 같은 상수 포함)"
   ]
  },
  {
   "cell_type": "code",
   "execution_count": 18,
   "id": "df3f2788",
   "metadata": {},
   "outputs": [
    {
     "name": "stdout",
     "output_type": "stream",
     "text": [
      "15\n",
      "2\n",
      "7 <class 'int'> <class 'list'>\n",
      "56 <class 'str'>\n",
      "[1, 4, 5, 8, 9]\n",
      "[9, 8, 5, 4, 1]\n"
     ]
    }
   ],
   "source": [
    "# 내장 함수\n",
    "result = sum([1,2,3,4,5])\n",
    "print(result)\n",
    "\n",
    "result = min([7,3,5,2])\n",
    "print(result)\n",
    "\n",
    "result = max([7,3,5,2])\n",
    "print(result, type(result), type([7,3,5,2]))\n",
    "\n",
    "# eval() 수학 수식이 문자열 형식으로 들어오면 해당 수식을 계산한 결과를 반환\n",
    "result = eval(\"(3+5) * 7\")\n",
    "print(result, type(\"(3+5) * 7\"))\n",
    "\n",
    "# sorted() 함수는 iterable 객체가 들어왔을 때, 정렬된 값 변환\n",
    "result = sorted([9,1,5,8,4])\n",
    "print(result)\n",
    "\n",
    "result = sorted([9,1,8,5,4], reverse=True)\n",
    "print(result)"
   ]
  },
  {
   "cell_type": "code",
   "execution_count": 19,
   "id": "a71ab7ea",
   "metadata": {},
   "outputs": [
    {
     "name": "stdout",
     "output_type": "stream",
     "text": [
      "[('이순신', 75), ('아무개', 50), ('홍길동', 35)]\n"
     ]
    }
   ],
   "source": [
    "result = sorted([(\"홍길동\", 35), (\"이순신\", 75), (\"아무개\", 50)], key = lambda x: x[1], reverse = True)\n",
    "print(result)"
   ]
  },
  {
   "cell_type": "code",
   "execution_count": 21,
   "id": "390ad9f1",
   "metadata": {},
   "outputs": [
    {
     "name": "stdout",
     "output_type": "stream",
     "text": [
      "[1, 4, 5, 8, 9]\n"
     ]
    }
   ],
   "source": [
    "data = [9,1,8,5,4]\n",
    "data.sort()\n",
    "print(data)"
   ]
  },
  {
   "cell_type": "markdown",
   "id": "fa1ed8fd",
   "metadata": {},
   "source": [
    "# itertools\n",
    "- permutations : 순열\n",
    "- combinations : 조합"
   ]
  },
  {
   "cell_type": "code",
   "execution_count": 24,
   "id": "aba9d71c",
   "metadata": {},
   "outputs": [
    {
     "name": "stdout",
     "output_type": "stream",
     "text": [
      "[('A', 'B', 'C'), ('A', 'C', 'B'), ('B', 'A', 'C'), ('B', 'C', 'A'), ('C', 'A', 'B'), ('C', 'B', 'A')]\n"
     ]
    }
   ],
   "source": [
    "from itertools import permutations\n",
    "\n",
    "data = ['A', 'B', 'C'] # 데이터 준비\n",
    "result = list(permutations(data,3)) # 모든 순열 구하기\n",
    "print(result)"
   ]
  },
  {
   "cell_type": "code",
   "execution_count": 25,
   "id": "e5511591",
   "metadata": {},
   "outputs": [
    {
     "name": "stdout",
     "output_type": "stream",
     "text": [
      "[('A', 'B'), ('A', 'C'), ('B', 'C')]\n"
     ]
    }
   ],
   "source": [
    "from itertools import combinations\n",
    "\n",
    "data = ['A', 'B', 'C'] # 데이터 준비\n",
    "result = list(combinations(data, 2)) # 2개 뽑는 모든 조합 구하기\n",
    "\n",
    "print(result)"
   ]
  },
  {
   "cell_type": "code",
   "execution_count": 26,
   "id": "8f1d993b",
   "metadata": {},
   "outputs": [
    {
     "name": "stdout",
     "output_type": "stream",
     "text": [
      "[('A', 'A'), ('A', 'B'), ('A', 'C'), ('B', 'A'), ('B', 'B'), ('B', 'C'), ('C', 'A'), ('C', 'B'), ('C', 'C')]\n"
     ]
    }
   ],
   "source": [
    "from itertools import product\n",
    "\n",
    "data = ['A', 'B', 'C'] # 데이터 준비\n",
    "result = list(product(data, repeat=2)) # 2개를 뽑는 모든 순열 구하기(중복 허용)\n",
    "\n",
    "print(result)"
   ]
  },
  {
   "cell_type": "code",
   "execution_count": 27,
   "id": "b7b7304e",
   "metadata": {},
   "outputs": [
    {
     "name": "stdout",
     "output_type": "stream",
     "text": [
      "[('A', 'A'), ('A', 'B'), ('A', 'C'), ('B', 'B'), ('B', 'C'), ('C', 'C')]\n"
     ]
    }
   ],
   "source": [
    "from itertools import combinations_with_replacement\n",
    "\n",
    "data = ['A', 'B', 'C'] # 데이터 준비\n",
    "result = list(combinations_with_replacement(data, 2)) # 2개를 뽑는 모든 조합 구하기(중복 허용)\n",
    "print(result)"
   ]
  },
  {
   "cell_type": "markdown",
   "id": "3bc6e2b7",
   "metadata": {},
   "source": [
    "# heapq\n",
    "- 힙기능을 위해 사용하는 라이브러리\n",
    "- 다익스트라 최단 경로 알고리즘을 포함해 다양한 알고리즘에서 우선순위 큐 기능을 구현할 때 사용\n",
    "- 원소를 삽입할 때에는 heapq.heappush() 메서드 사용\n",
    "- 원소를 꺼내고자 할 때에는 heaqp.heappop() 메서드 사용"
   ]
  },
  {
   "cell_type": "code",
   "execution_count": 30,
   "id": "204cce45",
   "metadata": {},
   "outputs": [
    {
     "name": "stdout",
     "output_type": "stream",
     "text": [
      "[0, 1, 2, 3, 4, 5, 6, 7, 8, 9]\n"
     ]
    }
   ],
   "source": [
    "import heapq\n",
    "\n",
    "def heapsort(iterable):\n",
    "    h = []\n",
    "    result = []\n",
    "    # 모든 원소를 차례대로 힙에 삽입\n",
    "    for value in iterable:\n",
    "        heapq.heappush(h, value)\n",
    "    \n",
    "    # 힙에 삽인된 모든 원소를 차례대로 꺼내어 담기\n",
    "    for _ in range(len(h)):\n",
    "        result.append(heapq.heappop(h))\n",
    "    return result\n",
    "\n",
    "result = heapsort([1,3,5,7,9,2,4,6,8,0])\n",
    "print(result)"
   ]
  },
  {
   "cell_type": "code",
   "execution_count": 33,
   "id": "6de728d3",
   "metadata": {},
   "outputs": [],
   "source": [
    "import heapq\n",
    "\n",
    "def heapsort(iterable):\n",
    "    h = []\n",
    "    result = []\n",
    "    # 모든 원소를 차례대로 힙에 삽입\n",
    "    for value in iterable:\n",
    "        heapq.heappush(h, -value) # -를 붙이면 최대힙으로 변경\n",
    "    # 힙에 삽입된 모든 원소르 차례대로 꺼내어 담기\n",
    "    for _ in range(len(h)):\n",
    "        result.append(-heapq.heappop(h))\n",
    "    return result"
   ]
  },
  {
   "cell_type": "code",
   "execution_count": 34,
   "id": "8e375972",
   "metadata": {},
   "outputs": [
    {
     "name": "stdout",
     "output_type": "stream",
     "text": [
      "[9, 8, 7, 6, 5, 4, 3, 2, 1, 0]\n"
     ]
    }
   ],
   "source": [
    "result = heapsort([1, 3, 5, 7, 9, 2, 4, 6, 8, 0])\n",
    "print(result)"
   ]
  },
  {
   "cell_type": "markdown",
   "id": "01c93d86",
   "metadata": {},
   "source": [
    "# bisect\n",
    "- 정렬된 배열에서 특정한 원소를 찾아야 할 때 매우 효과적\n",
    "- bisect_left(a, x) : 정렬된 순서를 유지하면서 리스트 a에 데이터 x를 삽입할 가장 왼쪽 인덱스를 찾는 메소드\n",
    "- bisect_right(a, x) : 정렬된 순서를 유지하도록 리스트 a에 데이터 x를 삽입할 가장 오른쪽 인덱스를 찾는 메소드"
   ]
  },
  {
   "cell_type": "code",
   "execution_count": 35,
   "id": "25998c94",
   "metadata": {},
   "outputs": [
    {
     "name": "stdout",
     "output_type": "stream",
     "text": [
      "2\n",
      "4\n"
     ]
    }
   ],
   "source": [
    "from bisect import bisect_left, bisect_right\n",
    "\n",
    "a = [1,2,4,4,8]\n",
    "x = 4\n",
    "\n",
    "print(bisect_left(a,x))\n",
    "print(bisect_right(a,x))"
   ]
  },
  {
   "cell_type": "code",
   "execution_count": 46,
   "id": "ce4677d3",
   "metadata": {},
   "outputs": [
    {
     "name": "stdout",
     "output_type": "stream",
     "text": [
      "2\n",
      "6\n",
      "9 3\n"
     ]
    }
   ],
   "source": [
    "# 정렬된 리스트에서 값이 특정 범위에 속하는 원소의 개수\n",
    "from bisect import bisect_left, bisect_right\n",
    "\n",
    "# 값이 [left_value, right_value]인 데이터의 개수를 반환하는 함수\n",
    "def count_by_range(a, left_value, right_value):\n",
    "    right_index = bisect_right(a, right_value)\n",
    "    left_index = bisect_left(a, left_value)\n",
    "    return right_index - left_index\n",
    "\n",
    "\n",
    "# 리스트 선언\n",
    "a = [1,2,3,3,3,3,4,4,8,9]\n",
    "\n",
    "# 값이 4인 데이터 개수 출력\n",
    "print(count_by_range(a, 4, 4))\n",
    "\n",
    "# 값이 [-1, 3] 범위에 있는 데이터 개수 출력\n",
    "print(count_by_range(a, -1, 3))\n",
    "print(a[-1],a[3])"
   ]
  },
  {
   "cell_type": "code",
   "execution_count": null,
   "id": "1114a5a9",
   "metadata": {},
   "outputs": [],
   "source": []
  }
 ],
 "metadata": {
  "kernelspec": {
   "display_name": "Python 3 (ipykernel)",
   "language": "python",
   "name": "python3"
  },
  "language_info": {
   "codemirror_mode": {
    "name": "ipython",
    "version": 3
   },
   "file_extension": ".py",
   "mimetype": "text/x-python",
   "name": "python",
   "nbconvert_exporter": "python",
   "pygments_lexer": "ipython3",
   "version": "3.9.12"
  }
 },
 "nbformat": 4,
 "nbformat_minor": 5
}
